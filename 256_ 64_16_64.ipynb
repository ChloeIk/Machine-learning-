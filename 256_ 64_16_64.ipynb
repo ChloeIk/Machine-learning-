{
 "cells": [
  {
   "cell_type": "code",
   "execution_count": 1,
   "id": "677e5f0b",
   "metadata": {},
   "outputs": [],
   "source": [
    "import numpy as np\n",
    "import pandas as pd\n",
    "import tensorflow as tf\n",
    "import keras\n",
    "from keras import layers\n",
    "from scikeras.wrappers import KerasClassifier\n",
    "import sklearn\n",
    "from sklearn.model_selection import GridSearchCV\n",
    "from tensorflow import random\n",
    "from tensorflow.keras.models import Sequential\n",
    "import matplotlib.pyplot as plt\n",
    "from sklearn.metrics import ConfusionMatrixDisplay\n",
    "from sklearn.metrics import classification_report"
   ]
  },
  {
   "cell_type": "code",
   "execution_count": 2,
   "id": "554d25c1",
   "metadata": {},
   "outputs": [],
   "source": [
    "seed_value = 42\n",
    "np.random.seed(seed_value)\n",
    "random.set_seed(seed_value)"
   ]
  },
  {
   "cell_type": "code",
   "execution_count": 3,
   "id": "4d5034fe",
   "metadata": {},
   "outputs": [],
   "source": [
    "# import data \n",
    "training_data = pd.read_csv('./as1-bank-1.csv')\n",
    "#training_data"
   ]
  },
  {
   "cell_type": "code",
   "execution_count": 4,
   "id": "9bc50a5f",
   "metadata": {},
   "outputs": [],
   "source": [
    "training_data.replace(\"yes\", 1, inplace=True)\n",
    "training_data.replace(\"no\", 0, inplace=True)"
   ]
  },
  {
   "cell_type": "code",
   "execution_count": 5,
   "id": "afd2ea59",
   "metadata": {},
   "outputs": [],
   "source": [
    "# Grab the quality column, and then remove it from the main Dataframe.\n",
    "training_y = training_data.pop('y')\n",
    "\n",
    "training_x = training_data"
   ]
  },
  {
   "cell_type": "code",
   "execution_count": 6,
   "id": "5279bf5f",
   "metadata": {},
   "outputs": [],
   "source": [
    "\n",
    "#selected_features = ['age', 'marital', 'education', 'default' , 'balance', 'housing', 'loan', 'contact', 'duration', 'campaign', 'pdays' ,'previous', 'poutcome']\n",
    "selected_features = ['age', 'marital', 'education', 'balance', 'housing', 'loan', 'duration', 'campaign', 'pdays' , 'poutcome']\n",
    "\n",
    "\n",
    "training_x = training_x[selected_features]\n",
    "#training_x"
   ]
  },
  {
   "cell_type": "code",
   "execution_count": 7,
   "id": "831c68cb",
   "metadata": {},
   "outputs": [],
   "source": [
    "arr_train_x = training_x.to_numpy()\n",
    "arr_train_y = training_y.to_numpy()"
   ]
  },
  {
   "cell_type": "code",
   "execution_count": 8,
   "id": "11370160",
   "metadata": {},
   "outputs": [],
   "source": [
    "from sklearn.preprocessing import StandardScaler\n",
    "# Feature scaling\n",
    "scaler = StandardScaler()\n",
    "X_train_scaled = scaler.fit_transform(arr_train_x)"
   ]
  },
  {
   "cell_type": "code",
   "execution_count": 9,
   "id": "034577c5",
   "metadata": {},
   "outputs": [],
   "source": [
    "from sklearn.model_selection import train_test_split\n",
    "\n",
    "# Train_test_split\n",
    "\n",
    "X_train, X_test, Y_train, Y_test = train_test_split(\n",
    "    X_train_scaled, arr_train_y, test_size=0.3, random_state=seed_value)\n"
   ]
  },
  {
   "cell_type": "code",
   "execution_count": 10,
   "id": "64c6a02f",
   "metadata": {},
   "outputs": [
    {
     "name": "stdout",
     "output_type": "stream",
     "text": [
      "Model: \"sequential\"\n",
      "_________________________________________________________________\n",
      " Layer (type)                Output Shape              Param #   \n",
      "=================================================================\n",
      " dense (Dense)               (None, 256)               2816      \n",
      "                                                                 \n",
      " dense_1 (Dense)             (None, 64)                16448     \n",
      "                                                                 \n",
      " dense_2 (Dense)             (None, 16)                1040      \n",
      "                                                                 \n",
      " dense_3 (Dense)             (None, 64)                1088      \n",
      "                                                                 \n",
      " dense_4 (Dense)             (None, 1)                 65        \n",
      "                                                                 \n",
      "=================================================================\n",
      "Total params: 21457 (83.82 KB)\n",
      "Trainable params: 21457 (83.82 KB)\n",
      "Non-trainable params: 0 (0.00 Byte)\n",
      "_________________________________________________________________\n"
     ]
    }
   ],
   "source": [
    "model = keras.Sequential()\n",
    "\n",
    "model .add(layers.InputLayer(input_shape=(10))) # 10 Columns of input\n",
    "\n",
    "model .add(layers.Dense(256, activation='relu'))\n",
    "\n",
    "model .add(layers.Dense(64, activation='relu'))\n",
    "\n",
    "model .add(layers.Dense(16, activation='relu'))\n",
    "\n",
    "model .add(layers.Dense(64, activation='relu'))\n",
    "\n",
    "model .add(layers.Dense(1, activation=\"sigmoid\")) # 0->1 floating\n",
    "\n",
    "model .summary()"
   ]
  },
  {
   "cell_type": "code",
   "execution_count": 11,
   "id": "8158ee2b",
   "metadata": {},
   "outputs": [],
   "source": [
    "# Compile the model.\n",
    "model.compile(\n",
    "    loss='binary_crossentropy',\n",
    "    optimizer='sgd',\n",
    "    metrics=['accuracy']\n",
    ")"
   ]
  },
  {
   "cell_type": "code",
   "execution_count": 12,
   "id": "29d12a04",
   "metadata": {},
   "outputs": [
    {
     "name": "stdout",
     "output_type": "stream",
     "text": [
      "Epoch 1/60\n",
      "172/172 [==============================] - 1s 2ms/step - loss: 0.6007 - accuracy: 0.7553\n",
      "Epoch 2/60\n",
      "172/172 [==============================] - 0s 2ms/step - loss: 0.5076 - accuracy: 0.7734\n",
      "Epoch 3/60\n",
      "172/172 [==============================] - 0s 2ms/step - loss: 0.4656 - accuracy: 0.7734\n",
      "Epoch 4/60\n",
      "172/172 [==============================] - 0s 2ms/step - loss: 0.4357 - accuracy: 0.7734\n",
      "Epoch 5/60\n",
      "172/172 [==============================] - 0s 2ms/step - loss: 0.4170 - accuracy: 0.7734\n",
      "Epoch 6/60\n",
      "172/172 [==============================] - 0s 3ms/step - loss: 0.4051 - accuracy: 0.7745\n",
      "Epoch 7/60\n",
      "172/172 [==============================] - 0s 2ms/step - loss: 0.3969 - accuracy: 0.7830\n",
      "Epoch 8/60\n",
      "172/172 [==============================] - 0s 2ms/step - loss: 0.3906 - accuracy: 0.7974\n",
      "Epoch 9/60\n",
      "172/172 [==============================] - 0s 2ms/step - loss: 0.3858 - accuracy: 0.8125\n",
      "Epoch 10/60\n",
      "172/172 [==============================] - 0s 2ms/step - loss: 0.3818 - accuracy: 0.8162\n",
      "Epoch 11/60\n",
      "172/172 [==============================] - 0s 2ms/step - loss: 0.3783 - accuracy: 0.8162\n",
      "Epoch 12/60\n",
      "172/172 [==============================] - 0s 2ms/step - loss: 0.3744 - accuracy: 0.8226\n",
      "Epoch 13/60\n",
      "172/172 [==============================] - 0s 2ms/step - loss: 0.3714 - accuracy: 0.8224\n",
      "Epoch 14/60\n",
      "172/172 [==============================] - 0s 2ms/step - loss: 0.3682 - accuracy: 0.8249\n",
      "Epoch 15/60\n",
      "172/172 [==============================] - 0s 2ms/step - loss: 0.3651 - accuracy: 0.8267\n",
      "Epoch 16/60\n",
      "172/172 [==============================] - 0s 2ms/step - loss: 0.3618 - accuracy: 0.8302\n",
      "Epoch 17/60\n",
      "172/172 [==============================] - 0s 2ms/step - loss: 0.3587 - accuracy: 0.8318\n",
      "Epoch 18/60\n",
      "172/172 [==============================] - 0s 2ms/step - loss: 0.3554 - accuracy: 0.8324\n",
      "Epoch 19/60\n",
      "172/172 [==============================] - 0s 2ms/step - loss: 0.3523 - accuracy: 0.8362\n",
      "Epoch 20/60\n",
      "172/172 [==============================] - 0s 2ms/step - loss: 0.3501 - accuracy: 0.8380\n",
      "Epoch 21/60\n",
      "172/172 [==============================] - 0s 2ms/step - loss: 0.3463 - accuracy: 0.8377\n",
      "Epoch 22/60\n",
      "172/172 [==============================] - 0s 2ms/step - loss: 0.3442 - accuracy: 0.8400\n",
      "Epoch 23/60\n",
      "172/172 [==============================] - 0s 2ms/step - loss: 0.3415 - accuracy: 0.8422\n",
      "Epoch 24/60\n",
      "172/172 [==============================] - 0s 2ms/step - loss: 0.3394 - accuracy: 0.8442\n",
      "Epoch 25/60\n",
      "172/172 [==============================] - 0s 2ms/step - loss: 0.3372 - accuracy: 0.8464\n",
      "Epoch 26/60\n",
      "172/172 [==============================] - 0s 2ms/step - loss: 0.3359 - accuracy: 0.8482\n",
      "Epoch 27/60\n",
      "172/172 [==============================] - 0s 2ms/step - loss: 0.3332 - accuracy: 0.8482\n",
      "Epoch 28/60\n",
      "172/172 [==============================] - 0s 2ms/step - loss: 0.3324 - accuracy: 0.8493\n",
      "Epoch 29/60\n",
      "172/172 [==============================] - 0s 2ms/step - loss: 0.3305 - accuracy: 0.8512\n",
      "Epoch 30/60\n",
      "172/172 [==============================] - 0s 2ms/step - loss: 0.3285 - accuracy: 0.8504\n",
      "Epoch 31/60\n",
      "172/172 [==============================] - 0s 2ms/step - loss: 0.3278 - accuracy: 0.8517\n",
      "Epoch 32/60\n",
      "172/172 [==============================] - 0s 2ms/step - loss: 0.3267 - accuracy: 0.8528\n",
      "Epoch 33/60\n",
      "172/172 [==============================] - 0s 2ms/step - loss: 0.3257 - accuracy: 0.8528\n",
      "Epoch 34/60\n",
      "172/172 [==============================] - 0s 2ms/step - loss: 0.3243 - accuracy: 0.8537\n",
      "Epoch 35/60\n",
      "172/172 [==============================] - 0s 2ms/step - loss: 0.3228 - accuracy: 0.8550\n",
      "Epoch 36/60\n",
      "172/172 [==============================] - 0s 2ms/step - loss: 0.3228 - accuracy: 0.8572\n",
      "Epoch 37/60\n",
      "172/172 [==============================] - 0s 2ms/step - loss: 0.3211 - accuracy: 0.8553\n",
      "Epoch 38/60\n",
      "172/172 [==============================] - 0s 2ms/step - loss: 0.3203 - accuracy: 0.8543\n",
      "Epoch 39/60\n",
      "172/172 [==============================] - 0s 2ms/step - loss: 0.3193 - accuracy: 0.8550\n",
      "Epoch 40/60\n",
      "172/172 [==============================] - 0s 2ms/step - loss: 0.3187 - accuracy: 0.8579\n",
      "Epoch 41/60\n",
      "172/172 [==============================] - 0s 2ms/step - loss: 0.3164 - accuracy: 0.8608\n",
      "Epoch 42/60\n",
      "172/172 [==============================] - 0s 2ms/step - loss: 0.3154 - accuracy: 0.8566\n",
      "Epoch 43/60\n",
      "172/172 [==============================] - 0s 2ms/step - loss: 0.3157 - accuracy: 0.8570\n",
      "Epoch 44/60\n",
      "172/172 [==============================] - 0s 2ms/step - loss: 0.3144 - accuracy: 0.8603\n",
      "Epoch 45/60\n",
      "172/172 [==============================] - 0s 2ms/step - loss: 0.3145 - accuracy: 0.8572\n",
      "Epoch 46/60\n",
      "172/172 [==============================] - 0s 2ms/step - loss: 0.3130 - accuracy: 0.8581\n",
      "Epoch 47/60\n",
      "172/172 [==============================] - 0s 2ms/step - loss: 0.3115 - accuracy: 0.8595\n",
      "Epoch 48/60\n",
      "172/172 [==============================] - 0s 3ms/step - loss: 0.3111 - accuracy: 0.8594\n",
      "Epoch 49/60\n",
      "172/172 [==============================] - 0s 2ms/step - loss: 0.3100 - accuracy: 0.8579\n",
      "Epoch 50/60\n",
      "172/172 [==============================] - 0s 2ms/step - loss: 0.3094 - accuracy: 0.8639\n",
      "Epoch 51/60\n",
      "172/172 [==============================] - 0s 2ms/step - loss: 0.3087 - accuracy: 0.8621\n",
      "Epoch 52/60\n",
      "172/172 [==============================] - 0s 2ms/step - loss: 0.3078 - accuracy: 0.8604\n",
      "Epoch 53/60\n",
      "172/172 [==============================] - 0s 2ms/step - loss: 0.3074 - accuracy: 0.8626\n",
      "Epoch 54/60\n",
      "172/172 [==============================] - 0s 2ms/step - loss: 0.3057 - accuracy: 0.8635\n",
      "Epoch 55/60\n",
      "172/172 [==============================] - 0s 2ms/step - loss: 0.3050 - accuracy: 0.8639\n",
      "Epoch 56/60\n",
      "172/172 [==============================] - 0s 2ms/step - loss: 0.3047 - accuracy: 0.8645\n",
      "Epoch 57/60\n",
      "172/172 [==============================] - 0s 2ms/step - loss: 0.3033 - accuracy: 0.8666\n",
      "Epoch 58/60\n",
      "172/172 [==============================] - 0s 2ms/step - loss: 0.3031 - accuracy: 0.8635\n",
      "Epoch 59/60\n",
      "172/172 [==============================] - 0s 2ms/step - loss: 0.3013 - accuracy: 0.8683\n",
      "Epoch 60/60\n",
      "172/172 [==============================] - 0s 2ms/step - loss: 0.3011 - accuracy: 0.8646\n"
     ]
    }
   ],
   "source": [
    "model_training_history = model.fit(\n",
    "    X_train,\n",
    "    Y_train,\n",
    "    #batch_size = 50,\n",
    "    epochs = 60,\n",
    ")"
   ]
  },
  {
   "cell_type": "code",
   "execution_count": 13,
   "id": "2b3fc9ec",
   "metadata": {},
   "outputs": [
    {
     "data": {
      "text/plain": [
       "Text(0.5, 0, 'epochs')"
      ]
     },
     "execution_count": 13,
     "metadata": {},
     "output_type": "execute_result"
    },
    {
     "data": {
      "image/png": "[encoded data removed]",
      "text/plain": [
       "<Figure size 800x600 with 2 Axes>"
      ]
     },
     "metadata": {},
     "output_type": "display_data"
    }
   ],
   "source": [
    "\n",
    "\n",
    "# If we want to be fancy, we can set a theme by uncommenting the below line.\n",
    "#plt.style.use('ggplot')\n",
    "\n",
    "# Set up a figure, and two handles for our 2 figures.\n",
    "# Subplot can make many many plots within a single figure.\n",
    "fig, (ax1, ax2) = plt.subplots(2, figsize=(8, 6))\n",
    "\n",
    "# Get our accuracy and loss metrics (these should be lists of numbers)\n",
    "acc = model_training_history.history['accuracy']\n",
    "loss = model_training_history.history['loss']\n",
    "\n",
    "# We want accuracy on our first graph\n",
    "ax1.plot(acc)\n",
    "# Loss on our second\n",
    "ax2.plot(loss)\n",
    "    \n",
    "# Give our figures some x and y axis labels.\n",
    "ax1.set_ylabel('training accuracy_model_512')\n",
    "ax2.set_ylabel('training loss_model_512')\n",
    "\n",
    "# They both share an x axis, so we only need to define it on the bottom-most.\n",
    "ax2.set_xlabel('epochs')"
   ]
  },
  {
   "cell_type": "code",
   "execution_count": 14,
   "id": "c86395a4",
   "metadata": {},
   "outputs": [
    {
     "name": "stdout",
     "output_type": "stream",
     "text": [
      "74/74 [==============================] - 0s 2ms/step\n"
     ]
    }
   ],
   "source": [
    "y_pred = model.predict(X_test)"
   ]
  },
  {
   "cell_type": "code",
   "execution_count": 15,
   "id": "e54775cd",
   "metadata": {
    "scrolled": true
   },
   "outputs": [
    {
     "data": {
      "image/png": "[encoded data removed]",
      "text/plain": [
       "<Figure size 640x480 with 2 Axes>"
      ]
     },
     "metadata": {},
     "output_type": "display_data"
    }
   ],
   "source": [
    "a  = ConfusionMatrixDisplay.from_predictions(Y_test, np.round(y_pred))"
   ]
  },
  {
   "cell_type": "code",
   "execution_count": 16,
   "id": "fb0d9013",
   "metadata": {
    "scrolled": true
   },
   "outputs": [
    {
     "name": "stdout",
     "output_type": "stream",
     "text": [
      "              precision    recall  f1-score   support\n",
      "\n",
      "           0       0.89      0.90      0.90      1811\n",
      "           1       0.65      0.63      0.64       542\n",
      "\n",
      "    accuracy                           0.84      2353\n",
      "   macro avg       0.77      0.77      0.77      2353\n",
      "weighted avg       0.84      0.84      0.84      2353\n",
      "\n"
     ]
    }
   ],
   "source": [
    "class_ = classification_report(Y_test, np.round(y_pred))\n",
    "print(class_)"
   ]
  },
  {
   "cell_type": "code",
   "execution_count": 17,
   "id": "51dccbe7",
   "metadata": {},
   "outputs": [],
   "source": [
    "#export data into csv file\n",
    "import pandas\n",
    "report = classification_report(Y_test, np.round(y_pred), output_dict=True)\n",
    "df = pandas.DataFrame(report).transpose()\n",
    "df.to_csv('n256_64_16_64.csv', index= True)"
   ]
  }
 ],
 "metadata": {
  "kernelspec": {
   "display_name": "Python 3 (ipykernel)",
   "language": "python",
   "name": "python3"
  },
  "language_info": {
   "codemirror_mode": {
    "name": "ipython",
    "version": 3
   },
   "file_extension": ".py",
   "mimetype": "text/x-python",
   "name": "python",
   "nbconvert_exporter": "python",
   "pygments_lexer": "ipython3",
   "version": "3.11.5"
  }
 },
 "nbformat": 4,
 "nbformat_minor": 5
}
