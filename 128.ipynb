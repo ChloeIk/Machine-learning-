{
 "cells": [
  {
   "cell_type": "code",
   "execution_count": 1,
   "id": "677e5f0b",
   "metadata": {},
   "outputs": [],
   "source": [
    "import numpy as np\n",
    "import pandas as pd\n",
    "import tensorflow as tf\n",
    "import keras\n",
    "from keras import layers\n",
    "from scikeras.wrappers import KerasClassifier\n",
    "import sklearn\n",
    "from sklearn.model_selection import GridSearchCV\n",
    "from tensorflow import random\n",
    "from tensorflow.keras.models import Sequential\n",
    "import matplotlib.pyplot as plt\n",
    "from sklearn.metrics import ConfusionMatrixDisplay\n",
    "from sklearn.metrics import classification_report"
   ]
  },
  {
   "cell_type": "code",
   "execution_count": 2,
   "id": "554d25c1",
   "metadata": {},
   "outputs": [],
   "source": [
    "seed_value = 42\n",
    "np.random.seed(seed_value)\n",
    "random.set_seed(seed_value)"
   ]
  },
  {
   "cell_type": "code",
   "execution_count": 3,
   "id": "4d5034fe",
   "metadata": {},
   "outputs": [],
   "source": [
    "# import data \n",
    "training_data = pd.read_csv('./as1-bank-1.csv')\n",
    "#training_data"
   ]
  },
  {
   "cell_type": "code",
   "execution_count": 4,
   "id": "9bc50a5f",
   "metadata": {},
   "outputs": [],
   "source": [
    "training_data.replace(\"yes\", 1, inplace=True)\n",
    "training_data.replace(\"no\", 0, inplace=True)"
   ]
  },
  {
   "cell_type": "code",
   "execution_count": 5,
   "id": "afd2ea59",
   "metadata": {},
   "outputs": [],
   "source": [
    "# Grab the quality column, and then remove it from the main Dataframe.\n",
    "training_y = training_data.pop('y')\n",
    "\n",
    "training_x = training_data"
   ]
  },
  {
   "cell_type": "code",
   "execution_count": 6,
   "id": "5279bf5f",
   "metadata": {},
   "outputs": [],
   "source": [
    "\n",
    "#selected_features = ['age', 'marital', 'education', 'default' , 'balance', 'housing', 'loan', 'contact', 'duration', 'campaign', 'pdays' ,'previous', 'poutcome']\n",
    "selected_features = ['age', 'marital', 'education', 'balance', 'housing', 'loan', 'duration', 'campaign', 'pdays' , 'poutcome']\n",
    "\n",
    "\n",
    "training_x = training_x[selected_features]\n",
    "#training_x"
   ]
  },
  {
   "cell_type": "code",
   "execution_count": 7,
   "id": "831c68cb",
   "metadata": {},
   "outputs": [],
   "source": [
    "arr_train_x = training_x.to_numpy()\n",
    "arr_train_y = training_y.to_numpy()"
   ]
  },
  {
   "cell_type": "code",
   "execution_count": 8,
   "id": "11370160",
   "metadata": {},
   "outputs": [],
   "source": [
    "from sklearn.preprocessing import StandardScaler\n",
    "# Feature scaling\n",
    "scaler = StandardScaler()\n",
    "X_train_scaled = scaler.fit_transform(arr_train_x)"
   ]
  },
  {
   "cell_type": "code",
   "execution_count": 9,
   "id": "034577c5",
   "metadata": {},
   "outputs": [],
   "source": [
    "from sklearn.model_selection import train_test_split\n",
    "\n",
    "# Train_test_split\n",
    "\n",
    "X_train, X_test, Y_train, Y_test = train_test_split(\n",
    "    X_train_scaled, arr_train_y, test_size=0.3, random_state=seed_value)\n"
   ]
  },
  {
   "cell_type": "code",
   "execution_count": 10,
   "id": "64c6a02f",
   "metadata": {},
   "outputs": [
    {
     "name": "stdout",
     "output_type": "stream",
     "text": [
      "Model: \"sequential\"\n",
      "_________________________________________________________________\n",
      " Layer (type)                Output Shape              Param #   \n",
      "=================================================================\n",
      " dense (Dense)               (None, 128)               1408      \n",
      "                                                                 \n",
      " dense_1 (Dense)             (None, 1)                 129       \n",
      "                                                                 \n",
      "=================================================================\n",
      "Total params: 1537 (6.00 KB)\n",
      "Trainable params: 1537 (6.00 KB)\n",
      "Non-trainable params: 0 (0.00 Byte)\n",
      "_________________________________________________________________\n"
     ]
    }
   ],
   "source": [
    "model = keras.Sequential()\n",
    "\n",
    "model .add(layers.InputLayer(input_shape=(10))) # 10 Columns of input\n",
    "\n",
    "model .add(layers.Dense(128, activation='relu'))\n",
    "\n",
    "model .add(layers.Dense(1, activation=\"sigmoid\")) # 0->1 floating\n",
    "\n",
    "model .summary()"
   ]
  },
  {
   "cell_type": "code",
   "execution_count": 11,
   "id": "8158ee2b",
   "metadata": {},
   "outputs": [],
   "source": [
    "# Compile the model.\n",
    "model.compile(\n",
    "    loss='binary_crossentropy',\n",
    "    optimizer='sgd',\n",
    "    metrics=['accuracy']\n",
    ")"
   ]
  },
  {
   "cell_type": "code",
   "execution_count": 12,
   "id": "29d12a04",
   "metadata": {},
   "outputs": [
    {
     "name": "stdout",
     "output_type": "stream",
     "text": [
      "Epoch 1/60\n",
      "172/172 [==============================] - 1s 3ms/step - loss: 0.5203 - accuracy: 0.7817\n",
      "Epoch 2/60\n",
      "172/172 [==============================] - 0s 2ms/step - loss: 0.4590 - accuracy: 0.7930\n",
      "Epoch 3/60\n",
      "172/172 [==============================] - 0s 2ms/step - loss: 0.4356 - accuracy: 0.7987\n",
      "Epoch 4/60\n",
      "172/172 [==============================] - 0s 2ms/step - loss: 0.4233 - accuracy: 0.8011\n",
      "Epoch 5/60\n",
      "172/172 [==============================] - 0s 2ms/step - loss: 0.4157 - accuracy: 0.8036\n",
      "Epoch 6/60\n",
      "172/172 [==============================] - 0s 2ms/step - loss: 0.4105 - accuracy: 0.8062\n",
      "Epoch 7/60\n",
      "172/172 [==============================] - 0s 2ms/step - loss: 0.4065 - accuracy: 0.8103\n",
      "Epoch 8/60\n",
      "172/172 [==============================] - 0s 2ms/step - loss: 0.4031 - accuracy: 0.8116\n",
      "Epoch 9/60\n",
      "172/172 [==============================] - 0s 2ms/step - loss: 0.4002 - accuracy: 0.8129\n",
      "Epoch 10/60\n",
      "172/172 [==============================] - 0s 2ms/step - loss: 0.3976 - accuracy: 0.8134\n",
      "Epoch 11/60\n",
      "172/172 [==============================] - 0s 2ms/step - loss: 0.3951 - accuracy: 0.8145\n",
      "Epoch 12/60\n",
      "172/172 [==============================] - 0s 2ms/step - loss: 0.3926 - accuracy: 0.8144\n",
      "Epoch 13/60\n",
      "172/172 [==============================] - 0s 2ms/step - loss: 0.3903 - accuracy: 0.8171\n",
      "Epoch 14/60\n",
      "172/172 [==============================] - 0s 2ms/step - loss: 0.3881 - accuracy: 0.8165\n",
      "Epoch 15/60\n",
      "172/172 [==============================] - 0s 2ms/step - loss: 0.3860 - accuracy: 0.8189\n",
      "Epoch 16/60\n",
      "172/172 [==============================] - 0s 2ms/step - loss: 0.3839 - accuracy: 0.8209\n",
      "Epoch 17/60\n",
      "172/172 [==============================] - 0s 2ms/step - loss: 0.3818 - accuracy: 0.8222\n",
      "Epoch 18/60\n",
      "172/172 [==============================] - 0s 2ms/step - loss: 0.3798 - accuracy: 0.8227\n",
      "Epoch 19/60\n",
      "172/172 [==============================] - 0s 2ms/step - loss: 0.3780 - accuracy: 0.8240\n",
      "Epoch 20/60\n",
      "172/172 [==============================] - 0s 2ms/step - loss: 0.3761 - accuracy: 0.8257\n",
      "Epoch 21/60\n",
      "172/172 [==============================] - 0s 2ms/step - loss: 0.3742 - accuracy: 0.8246\n",
      "Epoch 22/60\n",
      "172/172 [==============================] - 0s 2ms/step - loss: 0.3726 - accuracy: 0.8246\n",
      "Epoch 23/60\n",
      "172/172 [==============================] - 0s 2ms/step - loss: 0.3708 - accuracy: 0.8255\n",
      "Epoch 24/60\n",
      "172/172 [==============================] - 0s 2ms/step - loss: 0.3691 - accuracy: 0.8266\n",
      "Epoch 25/60\n",
      "172/172 [==============================] - 0s 2ms/step - loss: 0.3675 - accuracy: 0.8280\n",
      "Epoch 26/60\n",
      "172/172 [==============================] - 0s 2ms/step - loss: 0.3660 - accuracy: 0.8284\n",
      "Epoch 27/60\n",
      "172/172 [==============================] - 0s 2ms/step - loss: 0.3644 - accuracy: 0.8280\n",
      "Epoch 28/60\n",
      "172/172 [==============================] - 0s 2ms/step - loss: 0.3630 - accuracy: 0.8275\n",
      "Epoch 29/60\n",
      "172/172 [==============================] - 0s 2ms/step - loss: 0.3616 - accuracy: 0.8287\n",
      "Epoch 30/60\n",
      "172/172 [==============================] - 0s 2ms/step - loss: 0.3601 - accuracy: 0.8291\n",
      "Epoch 31/60\n",
      "172/172 [==============================] - 0s 2ms/step - loss: 0.3591 - accuracy: 0.8300\n",
      "Epoch 32/60\n",
      "172/172 [==============================] - 0s 2ms/step - loss: 0.3578 - accuracy: 0.8295\n",
      "Epoch 33/60\n",
      "172/172 [==============================] - 0s 2ms/step - loss: 0.3567 - accuracy: 0.8298\n",
      "Epoch 34/60\n",
      "172/172 [==============================] - 0s 2ms/step - loss: 0.3555 - accuracy: 0.8313\n",
      "Epoch 35/60\n",
      "172/172 [==============================] - 0s 2ms/step - loss: 0.3545 - accuracy: 0.8328\n",
      "Epoch 36/60\n",
      "172/172 [==============================] - 0s 2ms/step - loss: 0.3534 - accuracy: 0.8328\n",
      "Epoch 37/60\n",
      "172/172 [==============================] - 0s 2ms/step - loss: 0.3525 - accuracy: 0.8348\n",
      "Epoch 38/60\n",
      "172/172 [==============================] - 0s 2ms/step - loss: 0.3515 - accuracy: 0.8333\n",
      "Epoch 39/60\n",
      "172/172 [==============================] - 0s 2ms/step - loss: 0.3506 - accuracy: 0.8340\n",
      "Epoch 40/60\n",
      "172/172 [==============================] - 0s 2ms/step - loss: 0.3498 - accuracy: 0.8348\n",
      "Epoch 41/60\n",
      "172/172 [==============================] - 0s 2ms/step - loss: 0.3488 - accuracy: 0.8368\n",
      "Epoch 42/60\n",
      "172/172 [==============================] - 0s 2ms/step - loss: 0.3482 - accuracy: 0.8371\n",
      "Epoch 43/60\n",
      "172/172 [==============================] - 0s 2ms/step - loss: 0.3475 - accuracy: 0.8377\n",
      "Epoch 44/60\n",
      "172/172 [==============================] - 0s 2ms/step - loss: 0.3468 - accuracy: 0.8369\n",
      "Epoch 45/60\n",
      "172/172 [==============================] - 0s 2ms/step - loss: 0.3461 - accuracy: 0.8371\n",
      "Epoch 46/60\n",
      "172/172 [==============================] - 0s 2ms/step - loss: 0.3455 - accuracy: 0.8373\n",
      "Epoch 47/60\n",
      "172/172 [==============================] - 0s 2ms/step - loss: 0.3448 - accuracy: 0.8366\n",
      "Epoch 48/60\n",
      "172/172 [==============================] - 0s 2ms/step - loss: 0.3443 - accuracy: 0.8391\n",
      "Epoch 49/60\n",
      "172/172 [==============================] - 0s 2ms/step - loss: 0.3437 - accuracy: 0.8382\n",
      "Epoch 50/60\n",
      "172/172 [==============================] - 0s 2ms/step - loss: 0.3433 - accuracy: 0.8384\n",
      "Epoch 51/60\n",
      "172/172 [==============================] - 0s 2ms/step - loss: 0.3427 - accuracy: 0.8386\n",
      "Epoch 52/60\n",
      "172/172 [==============================] - 0s 2ms/step - loss: 0.3423 - accuracy: 0.8395\n",
      "Epoch 53/60\n",
      "172/172 [==============================] - 0s 2ms/step - loss: 0.3418 - accuracy: 0.8388\n",
      "Epoch 54/60\n",
      "172/172 [==============================] - 0s 2ms/step - loss: 0.3414 - accuracy: 0.8393\n",
      "Epoch 55/60\n",
      "172/172 [==============================] - 0s 2ms/step - loss: 0.3410 - accuracy: 0.8400\n",
      "Epoch 56/60\n",
      "172/172 [==============================] - 0s 2ms/step - loss: 0.3406 - accuracy: 0.8391\n",
      "Epoch 57/60\n",
      "172/172 [==============================] - 0s 2ms/step - loss: 0.3402 - accuracy: 0.8395\n",
      "Epoch 58/60\n",
      "172/172 [==============================] - 0s 2ms/step - loss: 0.3399 - accuracy: 0.8386\n",
      "Epoch 59/60\n",
      "172/172 [==============================] - 0s 2ms/step - loss: 0.3394 - accuracy: 0.8390\n",
      "Epoch 60/60\n",
      "172/172 [==============================] - 0s 2ms/step - loss: 0.3392 - accuracy: 0.8395\n"
     ]
    }
   ],
   "source": [
    "model_training_history = model.fit(\n",
    "    X_train,\n",
    "    Y_train,\n",
    "    #batch_size = 50,\n",
    "    epochs = 60,\n",
    ")"
   ]
  },
  {
   "cell_type": "code",
   "execution_count": 13,
   "id": "2b3fc9ec",
   "metadata": {},
   "outputs": [
    {
     "data": {
      "text/plain": [
       "Text(0.5, 0, 'epochs')"
      ]
     },
     "execution_count": 13,
     "metadata": {},
     "output_type": "execute_result"
    },
    {
     "data": {
      "image/png": "[encoded data removed]",
      "text/plain": [
       "<Figure size 800x600 with 2 Axes>"
      ]
     },
     "metadata": {},
     "output_type": "display_data"
    }
   ],
   "source": [
    "\n",
    "\n",
    "# If we want to be fancy, we can set a theme by uncommenting the below line.\n",
    "#plt.style.use('ggplot')\n",
    "\n",
    "# Set up a figure, and two handles for our 2 figures.\n",
    "# Subplot can make many many plots within a single figure.\n",
    "fig, (ax1, ax2) = plt.subplots(2, figsize=(8, 6))\n",
    "\n",
    "# Get our accuracy and loss metrics (these should be lists of numbers)\n",
    "acc = model_training_history.history['accuracy']\n",
    "loss = model_training_history.history['loss']\n",
    "\n",
    "# We want accuracy on our first graph\n",
    "ax1.plot(acc)\n",
    "# Loss on our second\n",
    "ax2.plot(loss)\n",
    "    \n",
    "# Give our figures some x and y axis labels.\n",
    "ax1.set_ylabel('training accuracy_model_512')\n",
    "ax2.set_ylabel('training loss_model_512')\n",
    "\n",
    "# They both share an x axis, so we only need to define it on the bottom-most.\n",
    "ax2.set_xlabel('epochs')"
   ]
  },
  {
   "cell_type": "code",
   "execution_count": 14,
   "id": "c86395a4",
   "metadata": {},
   "outputs": [
    {
     "name": "stdout",
     "output_type": "stream",
     "text": [
      "74/74 [==============================] - 0s 2ms/step\n"
     ]
    }
   ],
   "source": [
    "y_pred = model.predict(X_test)"
   ]
  },
  {
   "cell_type": "code",
   "execution_count": 15,
   "id": "e54775cd",
   "metadata": {
    "scrolled": true
   },
   "outputs": [
    {
     "data": {
      "image/png": "[encoded data removed]",
      "text/plain": [
       "<Figure size 640x480 with 2 Axes>"
      ]
     },
     "metadata": {},
     "output_type": "display_data"
    }
   ],
   "source": [
    "a  = ConfusionMatrixDisplay.from_predictions(Y_test, np.round(y_pred))"
   ]
  },
  {
   "cell_type": "code",
   "execution_count": 16,
   "id": "fb0d9013",
   "metadata": {
    "scrolled": true
   },
   "outputs": [
    {
     "name": "stdout",
     "output_type": "stream",
     "text": [
      "              precision    recall  f1-score   support\n",
      "\n",
      "           0       0.87      0.93      0.90      1811\n",
      "           1       0.69      0.55      0.61       542\n",
      "\n",
      "    accuracy                           0.84      2353\n",
      "   macro avg       0.78      0.74      0.76      2353\n",
      "weighted avg       0.83      0.84      0.83      2353\n",
      "\n"
     ]
    }
   ],
   "source": [
    "class_ = classification_report(Y_test, np.round(y_pred))\n",
    "print(class_)"
   ]
  },
  {
   "cell_type": "code",
   "execution_count": 21,
   "id": "7ae70874",
   "metadata": {},
   "outputs": [],
   "source": [
    "#export data into csv file\n",
    "import pandas\n",
    "report = classification_report(Y_test, np.round(y_pred), output_dict=True)\n",
    "df = pandas.DataFrame(report).transpose()\n",
    "df.to_csv('n128.csv', index= True)"
   ]
  },
  {
   "cell_type": "code",
   "execution_count": null,
   "id": "142f4e83",
   "metadata": {},
   "outputs": [],
   "source": []
  }
 ],
 "metadata": {
  "kernelspec": {
   "display_name": "Python 3 (ipykernel)",
   "language": "python",
   "name": "python3"
  },
  "language_info": {
   "codemirror_mode": {
    "name": "ipython",
    "version": 3
   },
   "file_extension": ".py",
   "mimetype": "text/x-python",
   "name": "python",
   "nbconvert_exporter": "python",
   "pygments_lexer": "ipython3",
   "version": "3.11.5"
  }
 },
 "nbformat": 4,
 "nbformat_minor": 5
}
